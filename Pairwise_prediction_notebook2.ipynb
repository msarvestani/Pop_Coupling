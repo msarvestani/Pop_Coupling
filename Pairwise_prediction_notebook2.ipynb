<<<<<<< HEAD
{
 "cells": [
  {
   "cell_type": "markdown",
   "metadata": {},
   "source": [
    "# This notebook uses the raster maginalized model (Okun et al. 2012, 2015) to generate a raster of neural responses, constrained by three properties of the observed raster of neural response:\n",
    "1) the generated raster has the same mean firing rate for each cell as the original raster\n",
    "2) the generated raster has the same overall population rate as the original raster\n",
    "3) the generated raster has the same population coupling for each cell as the original raster\n",
    "\n",
    "Note that it's not always possible to generate such a raster. In this case, an error message is given.\n",
    "\n",
    "# Then the pairwise correlation coefficients are calculated, and plotted for the original raster and the generated raster.\n",
    "\n",
    "# The main goal here is to determine whether these pairwise correlations are similar. If they are, this means that the three constraints used to generate the raster also capture pairwise correlations.\n",
    "This is because the model generated data doesn't have access to the pairwise correlations, apriori. So if this generated data can capture pairwise correlations, it means that the imposed constraints (firing rate, population rate, population coupling) implicitly impose pairwise correlations. Another way of sayign this is that population coupling contains pairwise correlation data.\n",
    "\n",
    "#To check that it's the last constraint of population coupling, and not the first two constraints from the list above, that capture pairwise correlations, we will also generate a raster that meets only first two constraints. We will again compare the pairwise population matrices for this generated data and the real data. \n",
    "The expectation is that the data generated from all three constraints will have similar pairwise correlations to the real data, but that the data generated from just the first two constraints will have less similar pairise correlations."
   ]
  },
  {
   "cell_type": "code",
   "execution_count": 1,
   "metadata": {
    "collapsed": false
   },
   "outputs": [
    {
     "name": "stderr",
     "output_type": "stream",
     "text": [
      ":0: FutureWarning: IPython widgets are experimental and may change in the future.\n"
     ]
    }
   ],
   "source": [
    "import numpy as np\n",
    "import seaborn as sns\n",
    "import matplotlib.pyplot as plt\n",
    "%matplotlib inline\n",
    "\n",
    "import synthetic_signals\n",
    "import Okun_Shuffle\n",
    "import generate_RMM\n",
    "\n"
   ]
  },
  {
   "cell_type": "markdown",
   "metadata": {},
   "source": [
    "# Import some synthetic data for testing (play with firing rates, num cells)\n"
   ]
  },
  {
   "cell_type": "code",
   "execution_count": 2,
   "metadata": {
    "collapsed": false
   },
   "outputs": [
    {
     "name": "stdout",
     "output_type": "stream",
     "text": [
      "the mean firing rate is 23.6\n"
     ]
    }
   ],
   "source": [
    "#Get raster by creating a synthetic spike train. This is useful for checking effect of firing rate, correlation on popcorr. \n",
    "# But otherwise it has no inherent structure to it, so you're better off using Okun's raster below.\n",
    "t_start=0\n",
    "t_end = 10000 #in microseconds\n",
    "n_cells = 50\n",
    "firing_rate= 10 # in spikes per second\n",
    "spike_times, cell_ids = synthetic_signals.generate_poisson_spike_train_population(n_cells, firing_rate,\n",
    "                                                                               correlation=6 * 0.08,\n",
    "                                                                               t_start=t_start,\n",
    "                                                                               t_stop=t_end,\n",
    "                                                                               seed=1 + 1000)\n",
    "\n",
    "# #now make a binned (1 ms) and binarized raster to use for the shuffling\n",
    "raster_original = Okun_Shuffle.make_raster(spike_times, cell_ids, n_cells, t_start,t_end, dt_conv=1.0)\n",
    "raster=raster_original.copy()\n",
    "\n",
    "\n",
    "print \"the mean firing rate is \" + np.str(np.mean(np.sum(raster,axis=0) /(t_end/1000) ))"
   ]
  },
  {
   "cell_type": "code",
   "execution_count": 3,
   "metadata": {
    "collapsed": true
   },
   "outputs": [],
   "source": [
    "# Import Michael Okun's provided raster (10 cells, 5 minutes, ~20 Hz firing rate)\n"
   ]
  },
  {
   "cell_type": "code",
   "execution_count": null,
   "metadata": {
    "collapsed": true
   },
   "outputs": [],
   "source": [
    "#Use the raster provided by Michael Okun (I think it's real data) with his sample code\n",
    "#(note that this requires raster.mat to be in your working directory)\n",
    "\n",
    "t_end = 5*60*1000 # in ms, total time of raster\n",
    "import h5py\n",
    "f = h5py.File('raster.mat','r') #load mat file\n",
    "variables = f.items()\n",
    "for var in variables:\n",
    "    name = var[0]\n",
    "    data = var[1]\n",
    "    if type(data) is h5py.Dataset:\n",
    "        raster_big = data.value\n",
    "\n",
    "        \n",
    "raster = raster_big[:,:]\n",
    "\n",
    "print \"the mean firing rate is \" + np.str(np.mean(np.sum(raster,axis=0) /(t_end/1000) ))        "
   ]
  },
  {
   "cell_type": "markdown",
   "metadata": {},
   "source": [
    "# Import extracted spikes from Observatory Calcium Data\n"
   ]
  },
  {
   "cell_type": "code",
   "execution_count": 63,
   "metadata": {
    "collapsed": false
   },
   "outputs": [
    {
     "name": "stdout",
     "output_type": "stream",
     "text": [
      "(242L, 115730L)\n",
      "(36000L, 20L)\n",
      "the mean firing rate is 0.286658249158\n"
     ]
    }
   ],
   "source": [
    "#For now, we'll use the spikes Anatoly extracted from session B. He already binarized them (into 33 ms bins, since the calcium\n",
    "#imaging sampling rate is 30 Hz)\n",
    "#this raster contains responses from 242 neurons for an hour (64 minutes of data, for the whole session B)\n",
    "#we'll use smaller chunks of time\n",
    "\n",
    "t_end_frame=30*1200 #%10 seconds of data\n",
    "t_end = t_end_frame*(33) # in ms, total time of raster\n",
    "import h5py\n",
    "f = h5py.File('observatory_raster.mat','r') #load mat file\n",
    "variables = f.items()\n",
    "for var in variables:\n",
    "    name = var[0]\n",
    "    data = var[1]\n",
    "    if type(data) is h5py.Dataset:\n",
    "        raster_big = data.value\n",
    "\n",
    "        \n",
    "raster = raster_big.T[:t_end_frame,:20]\n",
    "print np.shape(raster_big)\n",
    "print np.shape(raster)\n",
    "\n",
    "print \"the mean firing rate is \" + np.str(np.mean(np.sum(raster,axis=0) /(t_end/1000) ))"
   ]
  },
  {
   "cell_type": "markdown",
   "metadata": {},
   "source": [
    "Generate a new raster ('raster_model_wcoupling') that matches the constraints of the original raster. \n",
    "Then check to see that it meets the constraints. During this process, we'll also generate a raster that matches just the first two constraints (raster_model).\n"
   ]
  },
  {
   "cell_type": "code",
   "execution_count": 64,
   "metadata": {
    "collapsed": false
   },
   "outputs": [
    {
     "name": "stdout",
     "output_type": "stream",
     "text": [
      "Only the first two constraints match (firing rate and population rate).\n",
      "All three constraints match.\n"
     ]
    }
   ],
   "source": [
    "raster_model, raster_model_wcoupling = generate_RMM.get_cRMM_raster(raster)\n",
    "\n",
    "constraints_met = generate_RMM.check_constraints(raster,raster_model)\n",
    "constraints_met_wcoupling = generate_RMM.check_constraints(raster,raster_model_wcoupling)\n"
   ]
  },
  {
   "cell_type": "markdown",
   "metadata": {},
   "source": [
    "Calculate pairwise correlation coefficients for both the original and the two generated raster. The 'sortby' optional flag indicateswhether the matrices should be row-sorted by each cell's population coupling. The default is that they should be sorted (as done in Okun et al. 2015), since this allows easy visual verification that:\n",
    "1) cells with high population couplin also have high pairwise population coefficients\n",
    "2) pairwise population coefficients for generated data are similar to those for real data"
   ]
  },
  {
   "cell_type": "code",
   "execution_count": 65,
   "metadata": {
    "collapsed": false
   },
   "outputs": [],
   "source": [
    "pairwise_data,pairwise_model_wcoupling = generate_RMM.get_pairwise(raster,raster_model_wcoupling,sortby=1)\n",
    "pairwise_data,pairwise_model = generate_RMM.get_pairwise(raster,raster_model,sortby=1)\n"
   ]
  },
  {
   "cell_type": "markdown",
   "metadata": {},
   "source": [
    "Plot the pairwise correlation coefficients for the model generated raster on the lower triangle, and the coefficients for the data on the upper triangle. This will reproduce Fig. 2B and 2D of Okun et al. 2015. Keep in mind that if the 'sortby' flag was set to 1 above, the rows will be sorted in descending population coupling order. So if everything checks out, cells near the top of the diagonal will have both high pairwise corre values (redder colors) and high coupling values!"
   ]
  },
  {
   "cell_type": "code",
   "execution_count": 66,
   "metadata": {
    "collapsed": false
   },
   "outputs": [
    {
     "data": {
      "image/png": "iVBORw0KGgoAAAANSUhEUgAAAYIAAAFRCAYAAAB5UKoIAAAABHNCSVQICAgIfAhkiAAAAAlwSFlz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\nn9eCAAAAAElFTkSuQmCC\n",
      "text/plain": [
       "<matplotlib.figure.Figure at 0x2d63b128>"
      ]
     },
     "metadata": {},
     "output_type": "display_data"
    },
    {
     "data": {
      "image/png": "iVBORw0KGgoAAAANSUhEUgAAAYcAAAFRCAYAAACfeWFMAAAABHNCSVQICAgIfAhkiAAAAAlwSFlz\nAAALEgAACxIB0t1+/AAAIABJREFUeJzt3XmcHFXV//HPTPZMFhLIRiAEQjxE1kCAsMgqm4Ig/kTR\nxwVBEBV9RNxFRFEfHxYVF0QIq6iILErUBB72BBIIBEICnIRACIRsJCGTZLLP/P641abTNT0zt6Yn\nPZ35vl+veSXTVafu7e6aOnVvVZ+uamhoQEREJF91uTsgIiLtj5KDiIikKDmIiEiKkoOIiKQoOYiI\nSIqSg4iIpHRuaqGZDQfmAjPyHq4CfuXuNzcTewPwZ3d/OLZTZnYBsIO7/zw2tsj2RgFXAHsCDcC7\nwPfcfXIptl/Q1meAC4AeQFdgEvBNd1/Zim1+Dzgf+D/gCeBy4CV3P6VgveuAk4A73P3SjG09ChwF\njHD31/MePxp4BPiGu18dsb3/B3zJ3Y9tZr15wJnu/lwj/RkG5F6/rsBjhNd0dTPbPBj4nLtf2NL+\ntpSZ7QD8y90Pj4jpBHwVOJvwt9cVuB/4gbtvaIM+3gK86O5Xm9l04Gh3ry3RtocCv3P30/PbyVv+\naeBrya/DgLXA0uT3i4ADgRXufnsp+tNI/8YAd7n77iVa7zygi7tfF9mPTsB9wLnAe4Ffu/u+Bev8\nhvDa/BX4U/Jwf6AvkPsbvBV4HLjA3S+I6UNWTSaHRJ27j879YmY7AzPNbJq7v1gsyN0/n7VT7n59\n1thCZmaEg+pn3f3B5LHjgPFmdri7v1zCtr4LnAyc7u5Lzawz8EvCAeCoVmz6c8DZ7v6kmT0MfMfd\n/9TIeucDu7r7261oqwF4A/gv4Md5j38GWJwsbwvFttsAXOLu9wAkr+m1hD+iDzWzzb2BXUrWw619\nEBgfGXMd4Q/+OHdfZWY9gTuAG4FPl7h/EF67BoD8v+ESuQH4fmE7Oe5+G3AbgJndTEge1+SWm9mT\nwDNm9oC7Ly5x39rCkUDR410Tvg484u5LzOy9RdZpABqSY9Fo+M9J5kfcfat93Mw6m9kH3f2fGfoS\npSXJYSvu/raZzQFGmtlrhB1+JCHTrQI+4e6zkzO+XwPPEs52XwKGAwsIZ7bjzGws8CSwh7vPS86Q\n+wB1wE7ufpGZXUg4E98ArCNkzpeTM5dfE85KugB/cfefNdLlbwM35RJD8hweNrOPJ9vDzM4AfgB0\nAmqBi939GTP7IXAYMJgwenoVODz5/QV3/88ftJnVAN8BDnD3pUk7m8zsG8AZZtYlWfUa4DhgMzAV\n+Jq7ry72fMzsTsIB7iYz6woMAIab2UB3/2Ve+08QRnUTzOyLwArgN8n70gBc7e63m9kxwK+A1UAN\ncLC7byx4ze4APkmSHJKD2BGEJFuVPLZ3Y9tPlv0I+ASwLHnNcn3sCvyckCg7AdOBr7j7qkbet3xV\nuf8kr+nFwCIze0+y/V8AhwK9k3XPA+YDPwL6mNm45LFfFq7n7k/mN5ScYV/i7g8l+8jNhFHs+mQ0\n/Ky7/x44nTCCw8zOJ5wNbyYk0C+7+5yC7e6evCaDcyMed68zsy8Q9jHMrC/wW2D/5DX9N/Bdd99s\nZvWEv4nlybr1wE7AfsDVwDzCyHgt4UTolYL26wn7zmnAh5O+jiT8XX3a3WeZ2Z7ATUA/YGHyGv3R\n3W8t2NZYYEDBKK+Kpm213N3rzeyvwLeAiwu2X0PTx5UnCfvjMMKx5TPu3pAcK/6bMMqcVawjxdYz\ns0HA9cBAwt/4G8BZhMRwGvB+M6sD7mlsvdzffd72ehJGivs089qkXp/k98Ze0z8QXps2Tw7R1xzM\n7DDCTjiVcJa83N0Pc3cDngG+nKyafzYxFPhRss7NSRzJv4uAE5LfPwTclYs3s2rCH/5J7n4I4YU5\nIll+O+GgP4bwB3+CmX20kS4fBKSmj9x9oru/bmZ7EV7sM919f0KS+LuZ9U5W3RUY7e6fIrxZud8L\nz/T2Ioyy5ha0s9bd/5wcgL9P2Jn2IxwAqoErm3o+7v4x4G3CH8cewDTCweuXBe28L/nvMcAU4B+E\n6b/9gVOAnyZ/1BDOqD/u7gc0khggHLQ3mNkhye9nJtvbRHhfOhXbvpmdnqy/PyGR1rBlP/g2sNHd\nD3L3AwgHoP9ppP1ChWel64DZhNfxEMIBd6y77004W/22u78FXAo84e7nAmMbW6+Rtu5h6/1zOXBU\nsi9+ALjHzLoBI5MD6nHAN4Bjkuf0J8I0QqEDgVmFU2Huvtjdc+tfCyxNph3GEF7DS1rw+hzAlvfi\nZsK+1Jjc63gUIYHtS/jb+Eby+O2EE7d9ga8QklZjI7r/RxgNt9b9hH2lUHPHlT3c/WhgX8KJ1tFm\ndgBwGfC+5FixprEGi6yXe44fAya7++HJ31od8Cl3v5ewv1+TTCs1ul4jzR0HzHb3FRGvSZPcfSow\n1Mx2K9U2i2lJcuhhZtOTnxeBnxIOVAvc/W7gNjO7yMx+RTgw1TSyjU3AU8n/xwPHJAeYEwlnpyeY\n2RBgkLtPI8ma7l5PSBZPmdmvCZn+puTM4mjgx8mZ3lOEs+v9G2m7vpnneRzwf+4+D8DdHwGWEJJK\nAzAl6QeN/B7TDoSd/vfuvtndGwgjhVOSM4yWPh9o/iztPUC33EHH3RcCdyftNwBvuvubzWzjNsLU\nEoQpj1vyllkT2z8euNvd17j7ZmBcXn9PBU7P7U+Es+9RzfSjmAZgjbtPAS41swvN7ErgI2zZB/NH\nHE81sV6+ewnJDsIZ4zWEk5dDgbnuviR5jg8l65xMGOUtS9q5lcb/eDfTsv3jN8l2NgC/z+tLU2a6\n++PJ/28GRptZ/ybWf9a3TD0+B/RPrqEcTJjiIhl5PFQk3sgbEbbCa8CwZET5Hy04rtyfrLc66Ud/\nwnsyMXl/IJzZN6ax9aqS7V0LTDGziy1cv9unoN2WrpezF1u/To0dNyDsF5uLLGvMa8m221RLppXW\nepH5ymR49nnCQe4OwjTC8EZWXZ87oLr7iuTA8CHC/OvthEx+BuGsbSvu/qlkru4EwhD0XLZk6cOS\ns0jMbCfCkLrQFMIZ0L8K+v4DwhvX2PCtmjC1A+kzkEbPSAjTZl3MbET+6MHMuhMOnOcl281vq1PS\nTqeI5wPNz/s3dhDqxJb3u8kLucn27wCeNbNrgD7JWXJueWPJKfdcGgraz9/pqwnTSBMBzKwX0L2Z\nvqQkyXQU4drXBwnTRVcRzthfYUtSy49p0XruPtPMuprZaYT9YzxwJ+EE52/Jaqez5ey8sf2nii37\nT84zwCgz65U/ekimE68nnI03tn/k/43mpvS2Opgmfctfp4qmDzaF+1X++vkHqmIHs3rSx44s16I6\nJXFbtdOC40p+/xsI/S88OSv2/IuuZ2Y/JyTIccDDhOeY/340NLFeY39zm9nytw3wDiGRFRpM3PWM\nTmz9nreJ1t7KeiJwi4c7l2YTDvidmg4BwtnZTwln7KsBJwzx/5a/kpntaGbzCUPMXxGmCfZL5qin\nEC725OZqn6DxC5RXAp83s9zUFWZ2MmHY/DzhzT0xmRPOXazeJdl+Y3/0jXL39YT59JvMbGCyrW6E\nA1LP5Ox6IvCF5KJSNfAl4IHI59MSTpgW+nCyvZ0Jw/cHm3oOBc9nIeE6y00kFxbzYott/wFgAvBR\nM+ubPMf84fZE4KLk4FtNODP+SQu6858+m1kPwmv6r2T0837gfg83MTxLmE/P7YOb2HKQbmq9QvcC\n/0s4w3RgB8I1mLvNrIowRZWbqpwIfCxJ5pjZOcA77r7VmbW7LyAc6G7KTVmaWR/gd8n665JtfSlZ\n1o1wg0HuWtlSwgEJ0lMx+5pZbpR5PjDJw91xLXqvk/6tSp7TOUn7uxNG1Y0d9GcDexQ81uK28uwB\nvO7uhQe65o4rhW01EF6nE5NkC/DZIm02td6JwC/d/Q7C630CW+9LXVuwXr7C1+kVYL2ZnZV7IDnx\nPYYt73OTkv1vOOFvsE21JDk0dUZwFXCBmU0jnF3dR7ge0dw2/k6Y+si9IBOBzr7l4mDu6v0ywi2o\nDyVt/IxwBg7h4t5YM5tBuP7xZ3f/c2HDyVn8qcAlZvaCmc0kzLGe6u4vebhD4IuEueTctNlpyR9L\n4V0YqbsyCtr6GWGUMDEZHT1POFM5PVnlCsI1lucJI43crY0tfj7NyN2ZspEwEvuqmb1AeJ0vd/fH\n8tdrgdsIo67cnVG57W8qtn13/zchoUwjJLzVee39mHDhdDrhQmA1SUJsxpXJVNSzyTZrCXdPQUgw\nRyev97+SvgxPlj0J7GVmdzezXqF72Xr/fAB4OznAHwpMS6YFcff/I1wXezjZtz5F2N8a80XC+/5k\n0o8pwEy27NNfAQYm++EM4GW2JM+vAL9NXoMDCNehcpYAlyf7zulsufOpcN/N/Vtsn/40cJaZPU+Y\n3nqdMJ9e6G9suS6T8xMzW5X3c0fB8sb2uZMJt28Wau64ktqWu88Evkk4VjzD1te6Wrrej4CrzGwK\n4Trk3/La/TfwFTP7VpH1RjTyPB4i7H99k7brCfvG58xsRvI+jwP+ywuuVVL8WDMGeDW5ptamqlSy\nW6RyWbj77Dp3z3rtJn9b3yVcL/LkgPYCcLIX3PmUrDuR8FmhaRnb6kQYwZ3gBXf5bE/M7DvAJne/\nstmVW7a9W4A7k5OwNqVPSItUvlKd4c0G7jSz5wjTmj9rLDEkzidcK8zqIuAX23NiSFwFHJebam4N\nMzuIkGjaPDGARg4iItIIjRxERCRFyUFERFKiy2e0M5oTE5G2kOXW3O1KpScHli5trizP1gYMCFUx\n1jz1dFRczWGhksTqx+IKufY6OlT7WLUqrp+9e4d+rn1hZlRcj/1DGZeX3o67zvfenQcAMH95XPHY\nYf37Atmf37aO2/j2oqi4LjsPBmDBirj2hvZL2luwMK69oUMAmLfs3ai44TvuAMC7d6Y+R9qkHT4W\nPjKx/Na4u6b7f+ZsADa+tSAqrssu4eMFvuidFsfY4J0AWF63Lqqt/j3D5yvXe9yHubtZY3fjdzya\nVhIRkRQlBxERSVFyEBGRlHaRHJI6OyIi0k6U7YK0mY0gfEnJGGBzkiBmEL78Zna5+iUiIuW9W+lG\nwpeyTM09YOHLaG5myxf6iIhIGZRzOqdbfmIASL64RUREyqycI4cZZnYTof5/LeF7fT9AmFoSEZEy\nKmdy+CLhOwGOAPoQEsT9hFr6IiJSRmVLDskXX9xDI18NKiIi5aVbSEVEJKXSv8+hojsvIu1Why+8\np5GDiIikVHxV1qwVF7NWc81aZTNz9dGHHouLO/5oADYtbXnVS4DOA0Lly6xVNheuXB0VN6Rvr9De\nosVx7Q0eBGR/PWvHT4yK63PqSa1qL+v7sGF+3PfHdx22S4ibNz8ubvgwIHuV4qxxi2vXtDhmUJ8a\nIPt7sGxNXDXXHWu6R62/vdLIQUREUpQcREQkRclBRERSlBxERCRFyUFERFKUHEREJEXJQUREUpQc\nREQkRclBRERSlBxERCRFyUFERFJUlVVEJE1VWcvdARERaX8qvyrrnLlR63cbOQLIXl01azXXrBUl\nXz/9E1Fxu//9T0D2arVZ+7n6iSej4nq97/BWtbdkVV1U3MDePQFYXhdXobN/z1Chc93Ml6Piuu8z\nCoirPgqtr0Ca9XXJWh13wxtvRsV13W1XAN5cUdvimF379QFg7pIVUW2NGNgPyP7cOjqNHEREJEXJ\nQUREUpQcREQkRclBRERSlBxERCRFyUFERFKUHEREJEXJQUREUpQcREQkRclBRERSlBxERCRFVVlF\nRNJUlbXcHRARkfan4quyZq1euWHe/Ki4rsOHAbB09dqouAG9eoS4jNVcNy19Jyqu84CdAFj3yuyo\nuO57vQeA2n8/GBXX55QTAJi/fGVU3LD+fQGomzY9Kq7nmNEArH50UlRcr2OOBKB2wkNRcX1OPr5V\n7S1bE1cFdseaUAV2zZRpUXE1Y8cA274ab+34iVFxfU49CYCV99zf4pi+Z54GwIbX5kW11XWP4QBs\nfGtBVFyXXYZGrb+90shBRERSlBxERCRFyUFERFKUHEREJEXJQUREUpQcREQkRclBRERSlBxERCRF\nyUFERFKUHEREJEXJQUREUlSVVUQkTVVZy90BERFpfzpsVdY1k6ZExdUcORaAd++8Jypuh4+dCcC6\nmS9HxXXfZxSQvZrrqgcejorrfeJxACyvi6si2r9nqCK68v4JUXF9TzsZgNWPTY6K63X0ESHu4cfj\n4o47CsherTbrfpa1qu6y62+OitvxgnMAWD/39ai4biN2B7Z91dmYSqm5Kqkb314U1VaXnQcD2Svx\ndnQaOYiISIqSg4iIpCg5iIhIipKDiIikKDmIiEiKkoOIiKQoOYiISIqSg4iIpCg5iIhIipKDiIik\nKDmIiEiKqrKKiKR1+KqsFV94T0SkvZtz5ElFT2RHTprYLhNRxSeHrNU5Vz30WFRc7+OPBmDp6rVR\ncQN69QCyVwOte+a5qLieBx8IZK/mWvuvB6Li+nzgRCB71dms1U63dVzWKr5Z26ubNj0qrueY0cC2\nfx/WPPV0VFzNYYcAsLh2TYtjBvWpAWDh934c1daQn1wKwIY33oyK67rbrlHrt0h1p9Jvs41VfHIQ\nEWnvqjopOYiISKFOlXfvT7tIDmZWDQwBFrp7fbn7IyJSSpU4cihbOjOzccm/hwKzgXuAWWY2tlx9\nEhFpE9XVxX/aqXL2bI/k358Cp7j7ocDxwP+Wr0siIqVXVV1d9Ke9ag892+TucwDc/e1yd0ZEpOQ6\ndSr+006V85pDXzN7DuhpZucCdwBXA2+UsU8iIiVXpQvSLefuB5pZd2B/YA1QD8wAxpWrTyIibaId\njxCKKevdSu6+Dpia99D15eqLiEhbqdKH4EREpFBVZyUHEREpVNUuyyc1SVVZRUTSSno0f+PTXyh6\nrNrttt8XbSv5gPDvgP2A9cB57j43b/lpwKXAJuAmd78xb9lA4FngeHePK+7GdjByWD/39aj1u43Y\nHYC1z70QFdfjwP0BqHv62ai4noccBGQv/pW5INqUaVFxNWPHANkL9m1a+k5UXOcBOwGw9sVZUXE9\n9t0bgPVz5jaz5ta6jRwBwIIVcc9vaL/w/LIWtFu4cnVU3JC+vYDs7/uKP98dFdfv7I+0qr3Vj02O\niut19BEAbJj/Votjug7bBdj2fwul1Iq7lc4Aurr74ckHhq9OHsPMugDXAGOAOmCymf3D3Zcky64n\n3OyTSeXdXyUiUmmqOxX/adoRwAQAd59KSAQ5o4BX3X2lu28EJgFHJcuuBK4DFmbuctZAERFpmapO\n1UV/mtEHqM37fXMy1ZRbtjJv2SrC58c+Cyx191z9/UxTZEoOIiJtrKpz56I/zagFeuf9Xp1XnHRl\nwbLewLvAOcAJZvYIcABwq5kNiu1zxV9zEBFp97LfrTQZOA24KylKOiNv2SvASDPrR7i2cBRwpbv/\n58JTkiAucPfFsQ0rOYiItLXsn5C+lzAKyF35P8fMzgZ6ufsNZnYxMJEwCzTO3TNfYyik5CAi0say\nVl919wbgwoKHZ+ctHw+MbyL+2EwNo+QgItL2VFtJREQKqXyGiIiktOcv9SlGyUFEpK0pOYiISEoF\nJgcV3hMRSStp4b1FP/yfoseqwT/8drss2aqRg4hIW9PXhG57y/5wS9T6O57/WSB7Vdas1UA3vrUg\nKq7LLkNbFffq4uVRcXsO6g9krx6btZpr1qqeviiuCqwNDlVg10yaEhVXc+RYABbXxhW3HNSnBoA5\nR54UFTdy0kQA6qZNj4rrOWY0kH1/yVrxdOGlP4mKG/Lj7wGwvG5di2P69+wOZO9j1rhSqupUeYfa\nyuuxiEiFaUXJ7rJRchARaWtVSg4iIlJIIwcRESlUpfIZIiKSopGDiIgU0t1KIiKSoruVREQkLfs3\nwZWNkoOISFvTBWkRESmku5VERCQtY3Iws2rgd8B+wHrgPHefm7f8NOBSYBNwk7vfaGZdgJuA3YBu\nwBXufn9s26rKKiKSVtKLBCv+dFfRY1W/T3y0aFtmdiZwqrt/zswOBb7j7mcky7oALwFjgDpgMnAq\n8AFgP3e/2Mz6Ac+7+26xfa68S+giIhWmqlOnoj/NOAKYAODuUwmJIGcU8Kq7r3T3jcAk4CjgLuAH\nyTrVhFFFtIqfVlr74qyo9XvsuzcA616ZHRXXfa/3ALBm8tSouJojDgXiqlDClkqUG+bNj4rrOnwY\nAOv91ai4brZnaO+1eXHt7TEcyF4NNGs116z9zPq6LL/9zqi4/p/6GABzl6yIihsxsB8AS1evjYob\n0KsHkL0C6epHJ0XF9TrmSADWvexRcd1HGRBX3ThX2Thrpdr2UJW1FXcr9QFq837fbGbV7l6fLFuZ\nt2wV0Nfd1wCYWW9CovheloYrPjmIiLR72S9I1wL52SqXGCAkhvxlvYEVAGa2K3AP8Ft3/0uWhpUc\nRETaWCs+BDcZOA24y8zGAjPylr0CjEyuK6whTCldaWaDgAeAL7r7I1kbVnIQEWlr2ctn3AucYGa5\nb8U6x8zOBnq5+w1mdjEwkXBtYZy7LzSzXwF9gR+YWe7awynuHjW3reQgItLGso4c3L0BuLDg4dl5\ny8cD4wtivgp8NVODeZQcRETaWrU+BCciIgWqqlVbSURECql8hoiIFFJtJRERSdP3OYiISKEqXZAW\nEZGUCpxWarOqrGY23d1Ht8nGt1BVVhFpCyW9vaju6WeLHqt6HnJQu7yVqS1HDh9sw22LiFSO6g58\nzcHM9gWOAToBj7r786XadlPWzXw5av3u+4wCYOOChVFxXYYOAWDlfeObWXNrfc84NbT39qK49nYe\nHOIWLY6LGzwIgA1vvBkV13W3XUN7GfuZtfJl1uqqWau5Zu1n1uqqS676dVTcwEsuArZ9VdZNS9+J\nius8YKfWtbd4acvbGjQAgNoJD0W11efk40NbGZ9bKVV1rrwZ/JKkMzP7FHAfsDswHLjXzM4txbZF\nRCpep+riP+1UqdLZJcAh7r4MwMyuAB4DxpVo+yIiFasS71YqVdqqziUGAHd/B9hcom2LiFS2Djxy\nmGFmvySMFKqAc4EXSrRtEZGKVlXVfpNAMaXq8eeBDcBNwM3J/79Yom2LiFS2zp2K/7RTJRk5uHsd\n8M1SbEtEZHvTYWsrmdlngauA/nkPN7h75b0iIiKl1oE/53AZ4TMOs5JvLhIRkUSHHTkAb7n7zBJt\nS0Rk+5LxriQzqwZ+B+wHrAfOc/e5ectPAy4FNgE3ufuNzcW0VKmSw7Nm9jfggaQzEKaVbivR9kVE\nKlYr7lY6A+jq7oeb2aHA1cljmFkX4BpgDFAHTDazfwBHAt0ai4lRquSwA7AKOKzgcSUHEenw1vbs\nXnRZ76ZDjwAmALj7VDMbk7dsFPCqu68EMLNJwFGE4/C/i8S0WJtVZd1GKrrzItJulbRS6qpVq4oe\nq3r37l20LTO7Abjb3Sckv78B7O7u9WZ2JPBld/94suxyYD4wtlhMTJ8r7xK6iEjHUcvWg4vqvIP8\nyoJlvYF3m4lpscorFVhgzeSpUevXHHEo0IoqovPmR8V1HT6sVe2te2V2VFz3vd4DwPq5r0fFdRux\nO7BtqmzClkqbddOmR8X1HBO+IiRrP7NWc836vi+vWxcV1z+ZftjW70PW/SxrP2PicjHr58RdU+02\ncgQAi2vXRMUN6lMTtX4bmwycBtxlZmOBGXnLXgFGmlk/YA1hSulKwoxKsZgWq/jkICKyHbsXOMHM\nJie/n2NmZwO93P0GM7sYmEiYBRrn7gvNLBWTpeFWJQcza+r0tMHd92jN9kVEOrLkc2MXFjw8O2/5\neGB8C2KitXbkcCxhCNPYBZUmLxabWRVwOvB+oC9hruxx4G/6IJ2IbE82VHcpdxeitTY5HE3jSaAq\nebypW1l/m6z3b2A14QLKKcBJwHmt7JeISLuxuT76enDZlWrkUKglyWEfdz+q4LG/m9mTreyTiEi7\n0uGSg7t/Nv93M+vv7stbGF5tZke5++N58UcTyn2LiGw36usrb6a8VFVZDwD+AtSY2eHAo8BZ7v5s\nE2GfBa4xsz8RRhr1wHTCd0OIiGw3Njd0sJFDnl8DZwJ3uPubZvYF4DrgkGIB7v4q8KEStS8i0m7V\nV2AlilIlh57u/pKZAeDuD5rZVU0FmNkjQDfSdzo1uPvhJeqXiEjZbd7ccZPDsmRqCQAz+yTQ3LWH\nbwM3EEYcm0rUDxGRdqcjTyt9EbgVeK+ZrQTmAJ9sKiCpFvhHYD93v6dE/RARaXfqK/BupZJVZTWz\nQYT6Hp2Age4+pyQbblrljdVEpBKUtCrrrAVLih6r9h46sKRtlUpJqrKa2VeACe6+GugH3G9mF5Ri\n2yIilW5zfX3Rn/aqVNNKF5DcmeTu88zsQOBp4PoSbb+obV19NGvc6kcnRcX1OuZIANa97FFx3UeF\nmwLWPvdCVFyPA/cHsj+/rBUzNy5YGBXXZegQANZMmRYVVzM2fN/JsjVxVVJ3rAlVUrNWc81aJXXe\nsnej4obvuAOQ/XVZN+uVqLjue+8FZN9f3lxR2+KYXfv1AeDtd1dHtbXzDr0A2LhocVRcl8GDotZv\niY58t1Jntv7w2gbC5xZERDq89jxCKKZUyeE+4GEzu5MwV3cm8I8SbVtEpKJV4iekS3LNwd2/BVwL\nGLA78Ct3/34pti0iUuk68jUH3P0u4K5SbU9EZHuxuQJHDvomOBGRNtaeRwjFKDmIiLSxjny3koiI\nFFHKT0ibWQ/gj8AAYBXwGXd/p2CdzwPnE0oTXeHu/zSzvklcb6ArcLG7TynWTkkuSIuISHGb6xuK\n/mRwIfBC8mVptwFb3fxjZoOBi4DDCd+s+TMz6wp8DXjQ3Y8hfGXCb5tqRCMHEZE2VuLCe0cAP0/+\nPwG4tGD5IcBkd98IbDSzV4H9gF8A65N1ugBrm2pEyUFEpI1lvVvJzM4F/rvg4cVA7iPmq4C+Bct7\nAyvzfl8F9HX3lck2BwO3A19tqm0lBxGRNrZ5c7aRg7uPA8blP2ZmdxMSAMm/hbVWavOW59ZZkcTu\nC/wZ+LrJwSsIAAANBUlEQVS7P9FU2yWrylomFd15EWm3Slop9d5pM4seqz48Zp+otszsYqC3u19u\nZh8H3ufuX8pbPgh4EDgY6A5MAfYH9gTuAT7q7i82145GDiIibazEJ+HXAbea2ROEawifADCzrwGv\nuvv9ZnYt8AThpqPvuvsGM/sp4S6la5Nv7XzX3T9crJGKHzmsfWFmVECP/fcBYNPSd5pZc2udB+wE\nwJrJU6Piao44FIBVDz4SFdf7hGNDe089HdfeYeFru1f8+e6ouH5nfwTIXkW07pnnouJ6HnwgAHOX\nrIiKGzGwHwBrX5wVFddj372B7NVOsz6/rNVcVz3wcFRc7xOPA7JX8d3WVYo3zH+rxTFdh+0CwMKV\ncVVZh/QNVVkX/ejnzay5tcE/+BaUeORw19QZRQ+0Hz10v3b5fQ4aOYiItLFK/CY4JQcRkTa2SclB\nREQKqfCeiIikaFpJRERSVHhPRERSKvGb4JQcRETamL7PQUREUnS3koiIpGhaSUREUjStJCIiKZVY\npqjiayuVuwMisl0qab2jq8Y/WvRYdcmpx6i2kohIR6RppTLY+PaiqPW77DwYyF6VNWsV2I2LFkfF\ndRk8CIB1M1+Oiuu+zygA6qZNj4rrOWY0kP35La5dExU3qE8NsO2rgWatyrp+ztyouG4jRwDw7l/v\njYrb4axQQTlzNdeMr8ubK2qbWXNru/brA8CGefOj4roOHxbdXq6trFVZs+6bpZT1y37KqeKTg4hI\ne7e5AqfvlRxERNqYppVERCSlEm/8UXIQEWljKtktIiIpmlYSEZGUUiYHM+sB/BEYAKwCPuPu7xSs\n83ngfGATcIW7/zNv2V7AFGCgu28o1k51yXosIiKN2lzfUPQngwuBF9z9KOA24Pv5C81sMHARcDhw\nEvAzM+uaLOsDXA2sa64RJQcRkTZWX19f9CeDI4AJyf8nAO8vWH4IMNndN7p7LfAqsJ+ZVQHXA98B\n1jbXiKaVRETaWNZvgjOzc4H/Lnh4MZD7FOEqoG/B8t7Ayrzfc+tcBvzT3WeYGTRTIkTJQUSkjWW9\nW8ndxwHj8h8zs7sJCYDk38KP/dfmLc9f55PAW0nCGQxMBI4p1raSg4hIGyvx3UqTgQ8AzwCnAI8X\nLH8a+ImZdQO6A6OAF919ZG4FM3sdOLGpRlSVVUQkraSVUs//w1+LHqv+cP5ZUW0ldyvdCgwB1gOf\ncPclZvY14FV3v9/MziPcrVQN/MTd7y3YxmvAXk3draTkICKSVtLkcN7v/1L0WHXjFz6ukt1tIWvV\n0uV1zd7JtZX+PbsD2au5blywMCquy9Ahob3FS+PaGzQgxGXtZ8Yqt1mrga59cVZUXI99925Ve1nj\n5i9f2cyaWxvWv2+r2sv6PmSt5pq1Gu+CFXHtDe3XOzouF7P60UlRbfU65kgAlqyqi4ob2Ltn1Pot\noU9Ii4hISn0FTnIoOYiItDF9n4OIiKRoWklERFLqGzRyEBGRAqrKKiIiKZpWEhGRlEr8PJmSg4hI\nG9ukaSURESlUr2klEREppAvSIiKSUonJQYX3RETSSloM79jLf1v0WPXIZV9ql4X3lBxERNLa5QF7\nW6r4aaV1s16JWr/73nsB2atlrrx/QjNrbq3vaScD276f6+e+HhXXbcTurWqvUuKyVlfNGretq85u\nmP9WVFzXYbsA2au5rp8zNyqu28gRQLaqrEuu/k1UWwO//mUA3v7WZVFxO//88qj1t1fV5e6AiIi0\nP0oOIiKSUrZpJTM7y93/ama9gMuA0cA04Ap3X12ufomISHlHDhcm//4SWAF8BVgA/KFsPRIREaB9\nXJAe6e7nJf9/yczOLGtvRESkrCOHkWZ2MbDJzEYDmNnBQJcy9klERChvcjgNqAVmA/ubWV/gWuBL\nZeyTiIhQxmkld58OTAduzHv4sDJ1R0RE8pTzbqVHgG6kP4nY4O6Hl6FLIiKSKOcF6W8DNwBnApvK\n2A8RESlQzmmlqWb2R2A/d7+nXP0QEZE0Fd4TEUnr8IX3VD5DRERS2sOH4Fpl09J3otbvPGAnANY8\n9XRUXM1hhwDZq6surl0TFTeoTw2QvTpn1ueXtb26Z56Liut58IFA9mqnayZNiYqrOXIskL1q6YY3\n3oyL223XEDdvflzc8GFAK6qyvjYvrr09hgPw9rtxFWt23qEX0Ipqrv5qi2O62Z4A1E2bHtVWzzGj\ngezvXUenkYOIiKQoOYiISIqSg4iIpCg5iIhIipKDiIikKDmIiEiKkoOIiKQoOYiISIqSg4iIpCg5\niIhIipKDiIikqCqriEiaqrKWuwMiItL+VH5V1sVLo9bvPGgAkL3q5cYFC6PiugwdAmSvepm1n6sf\nnRQV1+uYI4HsVUuX162LiuvfszsA85a9GxU3fMcdgOzVXLO+f1nfhzdX1EbF7dqvT6vi1j73QlRc\njwP3B7I/v21RzTVXyXXjosVRbXUZPAiAJavqouIG9u4Ztf72SiMHERFJUXIQEZEUJQcREUlRchAR\nkRQlBxERSVFyEBGRFCUHERFJUXIQEZEUJQcREUlRchARkRQlBxERSVFVVhGRNFVlLXcHRESk/an4\nqqy1Ex6KWr/PyccD2au5rpkyLSquZuwYADa8Ni8qrusewwHY+PaiqLguOw8GoO7pZ6Pieh5yEADr\nZr4cFdd9n1FA9qqeC1bExQ3tF+Kyvu9rnno6Kq7msEOA7M9vW8ctXBlXJXVI36T674OPxLV3wrFA\n9v0z5v3LvXcxlVxhSzXX9f5qVFw32zNq/e2VRg4iIpKi5CAiIilKDiIikqLkICIiKUoOIiKSouQg\nIiIpSg4iIpKi5CAiIilKDiIikqLkICIiKUoOIiKSoqqsIiJpqspa7g6IiEj7U/FVWZetWRe1/o41\n3QF4bemKqLg9BvQDYP7ylVFxw/r3BWDti7Oi4nrsuzeQvTrnhjfejIrrutuurWpv5X3jo+L6nnEq\nAOte9qi47qMsxM16JS5u772A7NV41z7/YlRcjwP2BbJXLV373Atx7R24f2hvwcK49oYOAWDJqrqo\nuIG9ewLZ97OY9nJtZf1bz1rNtaPTyEFERFKUHEREJEXJQUREUpQcREQkRclBRERSlBxERCRFyUFE\nRFKUHEREJEXJQUREUpQcREQkRclBRERSVJVVRCStw1dlrfTCex3+DRQRaQuaVhIRkRQlBxERSVFy\nEBGRFCUHERFJUXIQEZEUJQcREUmp9FtZU8ysGvgdsB+wHjjP3eeWt1ftg5k9B+S+BPs1dz+3nP0p\nJzM7FPgfdz/WzPYEbgHqgZnAl9y9Q36GpuB1GQ3cD8xJFl/n7n8tX+9kW9rukgNwBtDV3Q9PdvSr\nk8c6NDPrDuDux5a7L+VmZt8E/gtYnTx0DfBdd3/czK4DTgfuK1f/yqWR1+Ug4Bp3v6Z8vZJy2R6n\nlY4AJgC4+1RgTHm7027sD/Q0s4lm9lCSODuqV4Ez2fIhygPd/fHk//8G3l+WXpVf4etyEPBBM3vM\nzG40s17l65psa9tjcugD1Ob9vjmZauro1gBXuvtJwBeAOzrq6+Lu9wCb8h7K/6T9aqDvtu1R+9DI\n6zIVuMTdjwZeAy4rS8ekLLbHg0Mt0Dvv92p3ry9XZ9qR2cAdAO4+B1gGDClrj9qP/P2jN/BuuTrS\nztzr7tOT/98HjC5nZ2Tb2h6Tw2TgAwBmNhaYUd7utBvnEK6/YGY7E0ZYC8vao/Zjupkdnfz/FODx\nplbuQCaY2cHJ/48HppWzM7JtbY8XpO8FTjCzycnv55SzM+3IOOBmM8sd+M7RiOo/VX2/DtxgZl2B\nl4C/la9L7ULudfkC8Fsz20g4kTi/fF2Sba3SS3aLiEgb2B6nlUREpJWUHEREJEXJQUREUpQcREQk\nRclBRERSlBxERCRle/ycgwhmdgvwCPAY8Ii7717eHolUFo0cZHvVkPcjIpE0cpCKYWY/J5Rf3wRc\n7+7XJt/F8DtgR6AOuMjdn88Lq0pv6T8ji3cJlUd3AS5391vMrCdwA+H7QOqBq9z99jZ6SiLtlkYO\nUhHM7KPA4cA+wCHAOWY2CLgV+Ka7HwRcAPylhZtsAHZx9/cBpwFXJY//EFjq7vsCxwE/NLN9S/ZE\nRCqERg5SKY4C7nT3jcBGYHTy/QJjCDWjcuvVmFn/Fm7zgeTfWUAu5ljgcwDuvszM/g4cA7zY6mcg\nUkE0cpBKsZG8KSIzGw50Ata5++jcD3C4uy9v4TbXAxR8JWg1W09FVSftiHQoSg5SKR4HzjSzzsl1\ngQnAQGCOmX0SwMxOAB5N1q+iyPWGZjwMnJtsbyfCV4Y+2lSAyPZIyUEqgrvfR/iujueAp4FfJF9a\n9EngPDN7AfgJcFYS0kDzdyw1NPL/HwH9zWwG4TbYK9z9eTPb2cymp7Ygsp1SyW4REUnRyEFERFKU\nHEREJEXJQUREUpQcREQkRclBRERSlBxERCRFyUFERFKUHEREJOX/A2XThi/PsLlYAAAAAElFTkSu\nQmCC\n",
      "text/plain": [
       "<matplotlib.figure.Figure at 0x2cf2b048>"
      ]
     },
     "metadata": {},
     "output_type": "display_data"
    }
   ],
   "source": [
    "#this is equivalent to Fig 2D (Okun et al. 2015)\n",
    "vmaxc=0.3 #colormap max\n",
    "vminc=-0.1\n",
    "#colormap min\n",
    "\n",
    "titlestr=\"Pairwise Corr Coeff for Model Data w Coupling (LT) and data (UT)\"\n",
    "generate_RMM.plot_pairwise(pairwise_data,pairwise_model_wcoupling,titlestr)\n",
    "\n",
    "\n",
    "#this is equivalent to Fig 2D (Okun et al. 2015)\n",
    "titlestr=\"Pairwise Corr Coeff for Model Data w/o Coupling (LT) and data (UT)\"\n",
    "generate_RMM.plot_pairwise(pairwise_data,pairwise_model,titlestr)"
   ]
  }
 ],
 "metadata": {
  "kernelspec": {
   "display_name": "Python 2",
   "language": "python",
   "name": "python2"
  },
  "language_info": {
   "codemirror_mode": {
    "name": "ipython",
    "version": 2
   },
   "file_extension": ".py",
   "mimetype": "text/x-python",
   "name": "python",
   "nbconvert_exporter": "python",
   "pygments_lexer": "ipython2",
   "version": "2.7.10"
  }
 },
 "nbformat": 4,
 "nbformat_minor": 0
}
=======
{
 "cells": [
  {
   "cell_type": "markdown",
   "metadata": {},
   "source": [
    "# This notebook uses the raster maginalized model (Okun et al. 2012, 2015) to generate a raster of neural responses, constrained by three properties of the observed raster of neural response:\n",
    "1) the generated raster has the same mean firing rate for each cell as the original raster\n",
    "2) the generated raster has the same overall population rate as the original raster\n",
    "3) the generated raster has the same population coupling for each cell as the original raster\n",
    "\n",
    "Note that it's not always possible to generate such a raster. In this case, an error message is given.\n",
    "\n",
    "# Then the pairwise correlation coefficients are calculated, and plotted for the original raster and the generated raster.\n",
    "\n",
    "# The main goal here is to determine whether these pairwise correlations are similar. If they are, this means that the three constraints used to generate the raster also capture pairwise correlations.\n",
    "This is because the model generated data doesn't have access to the pairwise correlations, apriori. So if this generated data can capture pairwise correlations, it means that the imposed constraints (firing rate, population rate, population coupling) implicitly impose pairwise correlations. Another way of sayign this is that population coupling contains pairwise correlation data.\n",
    "\n",
    "#To check that it's the last constraint of population coupling, and not the first two constraints from the list above, that capture pairwise correlations, we will also generate a raster that meets only first two constraints. We will again compare the pairwise population matrices for this generated data and the real data. \n",
    "The expectation is that the data generated from all three constraints will have similar pairwise correlations to the real data, but that the data generated from just the first two constraints will have less similar pairise correlations."
   ]
  },
  {
   "cell_type": "code",
   "execution_count": 1,
   "metadata": {
    "collapsed": false
   },
   "outputs": [
    {
     "name": "stderr",
     "output_type": "stream",
     "text": [
      ":0: FutureWarning: IPython widgets are experimental and may change in the future.\n"
     ]
    }
   ],
   "source": [
    "import numpy as np\n",
    "import seaborn as sns\n",
    "import matplotlib.pyplot as plt\n",
    "%matplotlib inline\n",
    "\n",
    "import synthetic_signals\n",
    "import Okun_Shuffle\n",
    "import generate_RMM\n",
    "\n"
   ]
  },
  {
   "cell_type": "markdown",
   "metadata": {},
   "source": [
    "# Import some synthetic/borrowed data for testing\n"
   ]
  },
  {
   "cell_type": "code",
   "execution_count": 2,
   "metadata": {
    "collapsed": false
   },
   "outputs": [
    {
     "name": "stdout",
     "output_type": "stream",
     "text": [
      "the mean firing rate is 23.6\n"
     ]
    }
   ],
   "source": [
    "#Choose a method for generating 'real data'. Eventually this will be replaced by code that imports a raster from the observatory\n",
    "#or L4 model data.\n",
    "\n",
    " #1) Get raster by creating a synthetic spike train. This is useful for checking effect of firing rate, correlation on popcorr. \n",
    "    #But otherwise it has no inherent structure to it, so you're better off using Okun's raster below.\n",
    "#t_start=0\n",
    "#t_end = 10000 #in microseconds\n",
    "#n_cells = 50\n",
    "#firing_rate= 10 # in spikes per second\n",
    "#spike_times, cell_ids = synthetic_signals.generate_poisson_spike_train_population(n_cells, firing_rate,\n",
    "                                                                               #correlation=6 * 0.08,\n",
    "                                                                               #t_start=t_start,\n",
    "                                                                               #t_stop=t_end,\n",
    "                                                                               #seed=1 + 1000)\n",
    "\n",
    "# #now make a binned (1 ms) and binarized raster to use for the shuffling\n",
    "#raster_original = Okun_Shuffle.make_raster(spike_times, cell_ids, n_cells, t_start,t_end, dt_conv=1.0)\n",
    "#raster=raster_original.copy()\n",
    "\n",
    "\n",
    "#2) Use the raster provided by Michael Okun (I think it's real data) with his sample code\n",
    "#(note that this requires raster.mat to be in your working directory)\n",
    "\n",
    "t_end = 5*60*1000 # in ms, total time of raster\n",
    "import h5py\n",
    "f = h5py.File('raster.mat','r') #load mat file\n",
    "variables = f.items()\n",
    "for var in variables:\n",
    "    name = var[0]\n",
    "    data = var[1]\n",
    "    if type(data) is h5py.Dataset:\n",
    "        raster_big = data.value\n",
    "\n",
    "raster = raster_big[:,:]\n",
    "\n",
    "print \"the mean firing rate is \" + np.str(np.mean(np.sum(raster,axis=0) /(t_end/1000) ))"
   ]
  },
  {
   "cell_type": "markdown",
   "metadata": {},
   "source": [
    "# Import extracted spikes from Observatory Calcium Data\n"
   ]
  },
  {
   "cell_type": "code",
   "execution_count": 63,
   "metadata": {
    "collapsed": false
   },
   "outputs": [
    {
     "name": "stdout",
     "output_type": "stream",
     "text": [
      "(242L, 115730L)\n",
      "(36000L, 20L)\n",
      "the mean firing rate is 0.286658249158\n"
     ]
    }
   ],
   "source": [
    "#For now, we'll use the spikes Anatoly extracted from session B. He already binarized them (into 33 ms bins, since the calcium\n",
    "#imaging sampling rate is 30 Hz)\n",
    "#this raster contains responses from 242 neurons for an hour (64 minutes of data, for the whole session B)\n",
    "#we'll use smaller chunks of time\n",
    "\n",
    "t_end_frame=30*1200 #%10 seconds of data\n",
    "t_end = t_end_frame*(33) # in ms, total time of raster\n",
    "import h5py\n",
    "f = h5py.File('observatory_raster.mat','r') #load mat file\n",
    "variables = f.items()\n",
    "for var in variables:\n",
    "    name = var[0]\n",
    "    data = var[1]\n",
    "    if type(data) is h5py.Dataset:\n",
    "        raster_big = data.value\n",
    "\n",
    "        \n",
    "raster = raster_big.T[:t_end_frame,:20]\n",
    "print np.shape(raster_big)\n",
    "print np.shape(raster)\n",
    "\n",
    "print \"the mean firing rate is \" + np.str(np.mean(np.sum(raster,axis=0) /(t_end/1000) ))"
   ]
  },
  {
   "cell_type": "markdown",
   "metadata": {},
   "source": [
    "Generate a new raster ('raster_model_wcoupling') that matches the constraints of the original raster. \n",
    "Then check to see that it meets the constraints. During this process, we'll also generate a raster that matches just the first two constraints (raster_model).\n"
   ]
  },
  {
   "cell_type": "code",
   "execution_count": 64,
   "metadata": {
    "collapsed": false
   },
   "outputs": [
    {
     "name": "stdout",
     "output_type": "stream",
     "text": [
      "Only the first two constraints match (firing rate and population rate).\n",
      "All three constraints match.\n"
     ]
    }
   ],
   "source": [
    "raster_model, raster_model_wcoupling = generate_RMM.get_cRMM_raster(raster)\n",
    "\n",
    "constraints_met = generate_RMM.check_constraints(raster,raster_model)\n",
    "constraints_met_wcoupling = generate_RMM.check_constraints(raster,raster_model_wcoupling)\n"
   ]
  },
  {
   "cell_type": "markdown",
   "metadata": {},
   "source": [
    "Calculate pairwise correlation coefficients for both the original and the two generated raster. The 'sortby' optional flag indicateswhether the matrices should be row-sorted by each cell's population coupling. The default is that they should be sorted (as done in Okun et al. 2015), since this allows easy visual verification that:\n",
    "1) cells with high population couplin also have high pairwise population coefficients\n",
    "2) pairwise population coefficients for generated data are similar to those for real data"
   ]
  },
  {
   "cell_type": "code",
   "execution_count": 65,
   "metadata": {
    "collapsed": false
   },
   "outputs": [],
   "source": [
    "pairwise_data,pairwise_model_wcoupling = generate_RMM.get_pairwise(raster,raster_model_wcoupling,sortby=1)\n",
    "pairwise_data,pairwise_model = generate_RMM.get_pairwise(raster,raster_model,sortby=1)\n"
   ]
  },
  {
   "cell_type": "markdown",
   "metadata": {},
   "source": [
    "Plot the pairwise correlation coefficients for the model generated raster on the lower triangle, and the coefficients for the data on the upper triangle. This will reproduce Fig. 2B and 2D of Okun et al. 2015. Keep in mind that if the 'sortby' flag was set to 1 above, the rows will be sorted in descending population coupling order. So if everything checks out, cells near the top of the diagonal will have both high pairwise corre values (redder colors) and high coupling values!"
   ]
  },
  {
   "cell_type": "code",
   "execution_count": 66,
   "metadata": {
    "collapsed": false
   },
   "outputs": [
    {
     "data": {
      "image/png": "iVBORw0KGgoAAAANSUhEUgAAAYIAAAFRCAYAAAB5UKoIAAAABHNCSVQICAgIfAhkiAAAAAlwSFlz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\nn9eCAAAAAElFTkSuQmCC\n",
      "text/plain": [
       "<matplotlib.figure.Figure at 0x2d63b128>"
      ]
     },
     "metadata": {},
     "output_type": "display_data"
    },
    {
     "data": {
      "image/png": "iVBORw0KGgoAAAANSUhEUgAAAYcAAAFRCAYAAACfeWFMAAAABHNCSVQICAgIfAhkiAAAAAlwSFlz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\nQmCC\n",
      "text/plain": [
       "<matplotlib.figure.Figure at 0x2cf2b048>"
      ]
     },
     "metadata": {},
     "output_type": "display_data"
    }
   ],
   "source": [
    "#this is equivalent to Fig 2D (Okun et al. 2015)\n",
    "vmaxc=0.3 #colormap max\n",
    "vminc=-0.1\n",
    "#colormap min\n",
    "\n",
    "titlestr=\"Pairwise Corr Coeff for Model Data w Coupling (LT) and data (UT)\"\n",
    "generate_RMM.plot_pairwise(pairwise_data,pairwise_model_wcoupling,titlestr)\n",
    "\n",
    "\n",
    "#this is equivalent to Fig 2D (Okun et al. 2015)\n",
    "titlestr=\"Pairwise Corr Coeff for Model Data w/o Coupling (LT) and data (UT)\"\n",
    "generate_RMM.plot_pairwise(pairwise_data,pairwise_model,titlestr)"
   ]
  }
 ],
 "metadata": {
  "kernelspec": {
   "display_name": "Python 2",
   "language": "python",
   "name": "python2"
  },
  "language_info": {
   "codemirror_mode": {
    "name": "ipython",
    "version": 2
   },
   "file_extension": ".py",
   "mimetype": "text/x-python",
   "name": "python",
   "nbconvert_exporter": "python",
   "pygments_lexer": "ipython2",
   "version": "2.7.10"
  }
 },
 "nbformat": 4,
 "nbformat_minor": 0
}
>>>>>>> 1b7da8b8970056ba05531b8dc34d9f5c90792135
